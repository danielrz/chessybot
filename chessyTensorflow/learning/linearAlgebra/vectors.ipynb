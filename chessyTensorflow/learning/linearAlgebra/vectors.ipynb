{
 "cells": [
  {
   "cell_type": "code",
   "execution_count": 2,
   "metadata": {
    "collapsed": false
   },
   "outputs": [
    {
     "name": "stdout",
     "output_type": "stream",
     "text": [
      "add: Vector: [7.089, -7.23]\n"
     ]
    }
   ],
   "source": [
    "import vector\n",
    "v = vector.Vector([8.218, -9.341])\n",
    "w = vector.Vector([-1.129, 2.111])\n",
    "addition = v.plus(w)\n",
    "#print 'addition: {}'.format(addition)\n",
    "print(\"add: %s\" % (format(addition)))"
   ]
  },
  {
   "cell_type": "code",
   "execution_count": 6,
   "metadata": {
    "collapsed": false
   },
   "outputs": [
    {
     "name": "stdout",
     "output_type": "stream",
     "text": [
      "magn: 7.4402829247280646285389593685977160930633544921875\n",
      "magn: 10.8841875672922885343041343730874359607696533203125\n",
      "norm: Vector: [0.934, -0.357]\n",
      "norm: Vector: [0.34, 0.53, -0.777]\n"
     ]
    }
   ],
   "source": [
    "v = vector.Vector([-.221, 7.437])\n",
    "magn = v.magnitude()\n",
    "print(\"magn: %s\" % (format(magn)))\n",
    "v = vector.Vector([8.813, -1.331, -6.247])\n",
    "magn = v.magnitude()\n",
    "print(\"magn: %s\" % (format(magn)))\n",
    "v = vector.Vector([5.581, -2.136])\n",
    "norm = v.normalize()\n",
    "print(\"norm: %s\" % (format(norm)))\n",
    "v = vector.Vector([1.996, 3.108, -4.554])\n",
    "norm = v.normalize()\n",
    "print(\"norm: %s\" % (format(norm)))"
   ]
  },
  {
   "cell_type": "code",
   "execution_count": 11,
   "metadata": {
    "collapsed": false
   },
   "outputs": [
    {
     "name": "stdout",
     "output_type": "stream",
     "text": [
      "prod: -41.3822859999999945439839166283\n"
     ]
    }
   ],
   "source": [
    "v = vector.Vector([7.887, 4.138])\n",
    "w = vector.Vector([-8.802, 6.776])\n",
    "\n",
    "prod = v.dot_product(w)\n",
    "print(\"prod: %s\" % (format(prod)))"
   ]
  },
  {
   "cell_type": "markdown",
   "metadata": {},
   "source": [
    "# "
   ]
  }
 ],
 "metadata": {
  "kernelspec": {
   "display_name": "Python 2",
   "language": "python",
   "name": "python2"
  },
  "language_info": {
   "codemirror_mode": {
    "name": "ipython",
    "version": 2
   },
   "file_extension": ".py",
   "mimetype": "text/x-python",
   "name": "python",
   "nbconvert_exporter": "python",
   "pygments_lexer": "ipython2",
   "version": "2.7.10"
  }
 },
 "nbformat": 4,
 "nbformat_minor": 0
}
